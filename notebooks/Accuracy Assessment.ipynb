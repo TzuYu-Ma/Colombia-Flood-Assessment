{
 "cells": [
  {
   "cell_type": "markdown",
   "metadata": {},
   "source": [
    "# Accuracy Assessment\n",
    "This notebook is intended to determine which interpolation method performs better. Based on the results, we can see that IDW has the best performance. The data used for testing was precipitation."
   ]
  },
  {
   "cell_type": "markdown",
   "metadata": {},
   "source": [
    "### Interpolation algorithms results"
   ]
  },
  {
   "cell_type": "code",
   "execution_count": 19,
   "metadata": {},
   "outputs": [],
   "source": [
    "# IDW\n",
    "prep_idw = \"Idw\"\n",
    "\n",
    "# ORDINARY_KRIGING\n",
    "prep_ord_kri = \"kriging_ord\"\n",
    "\n",
    "# UNIVERSAL_KRIGING\n",
    "prep_uni_kri = \"kriging_uni\""
   ]
  },
  {
   "cell_type": "code",
   "execution_count": 24,
   "metadata": {},
   "outputs": [],
   "source": [
    "def differences(true_points, interpolated_raster, interpolated_points):\n",
    "\n",
    "    # convert raster to point\n",
    "    arcpy.conversion.RasterToPoint(\n",
    "        in_raster=interpolated_raster,\n",
    "        out_point_features=os.path.join(arcpy.env.workspace, interpolated_points),\n",
    "        raster_field=\"Value\"\n",
    "    )   \n",
    "    \n",
    "    # get the name of interpolation method as part of the output point layer \n",
    "    interpolation = os.path.basename(interpolated_points)\n",
    "    \n",
    "    # spatal join\n",
    "    output_join = f\"diff_{interpolation}\"\n",
    "    arcpy.analysis.SpatialJoin(true_points, interpolated_points, output_join, \"JOIN_ONE_TO_ONE\", \"KEEP_ALL\", \"\", \"CLOSEST\")\n",
    "\n",
    "    # rename column\n",
    "    arcpy.management.AlterField(output_join, \"Valor\", \"ground_truth\", \"ground_truth\")\n",
    "    arcpy.management.AlterField(output_join, \"CodigoEstacion\", \"station\", \"station\")\n",
    "    arcpy.management.AlterField(output_join, \"grid_code\", \"prediction\", \"prediction\")\n",
    "\n",
    "    # calculate difference\n",
    "    fields = [\"station\", \"ground_truth\", \"prediction\", \"residual\"]\n",
    "    arcpy.management.AddField(output_join, \"residual\", \"DOUBLE\")\n",
    "    with arcpy.da.UpdateCursor(output_join, fields) as cursor:\n",
    "        for row in cursor:\n",
    "            row[3] = row[1] - row[2]  # \"ground_truth\" - \"prediction\"\n",
    "            cursor.updateRow(row)\n",
    "    arcpy.management.DeleteField(output_join,\"Join_Count;Longitud;Latitud;TARGET_FID;pointid\",\"DELETE_FIELDS\")\n",
    "    \n",
    "    print(f\"Difference {interpolation} points layer created.\")\n"
   ]
  },
  {
   "cell_type": "code",
   "execution_count": 26,
   "metadata": {},
   "outputs": [
    {
     "name": "stdout",
     "output_type": "stream",
     "text": [
      "Difference kriging_ord_pts points layer created.\n",
      "Difference kriging_uni_pts points layer created.\n",
      "Difference Idw_pts points layer created.\n"
     ]
    }
   ],
   "source": [
    "true_points = \"precipitation_monthly_2013_23_Clip\"\n",
    "\n",
    "# ORDINARY_KRIGING\n",
    "differences(true_points, prep_ord_kri, prep_ord_kri+\"_pts\")\n",
    "# UNIVERSAL_KRIGING\n",
    "differences(true_points, prep_uni_kri, prep_uni_kri+\"_pts\")\n",
    "# IDW\n",
    "differences(true_points, prep_idw, prep_idw+\"_pts\")"
   ]
  },
  {
   "cell_type": "markdown",
   "metadata": {},
   "source": [
    "## Defince the RMSE, MAE, R^2 function"
   ]
  },
  {
   "cell_type": "code",
   "execution_count": 27,
   "metadata": {},
   "outputs": [],
   "source": [
    "# RMSE\n",
    "def RMSE(data):\n",
    "    residual_squared_sum = 0\n",
    "    count = 0\n",
    "    for row in arcpy.da.SearchCursor(data, ['residual']):\n",
    "        residual_squared_sum += row[0] ** 2\n",
    "        count += 1\n",
    "            \n",
    "    rmse = (residual_squared_sum / count) ** 0.5\n",
    "    return rmse\n"
   ]
  },
  {
   "cell_type": "code",
   "execution_count": 28,
   "metadata": {},
   "outputs": [],
   "source": [
    "# Mean Absolute Error\n",
    "def MAE(data):\n",
    "    absolute_errors = []\n",
    "    with arcpy.da.SearchCursor(data, [\"ground_truth\", \"prediction\"]) as cursor:\n",
    "        for row in cursor:\n",
    "            ground_truth = row[0]\n",
    "            prediction = row[1]\n",
    "            absolute_errors.append(abs(ground_truth - prediction))\n",
    "    \n",
    "    \n",
    "    mae = sum(absolute_errors) / len(absolute_errors)\n",
    "    return mae"
   ]
  },
  {
   "cell_type": "code",
   "execution_count": 29,
   "metadata": {},
   "outputs": [],
   "source": [
    "# Coefficient Of Determination\n",
    "def R_squared(data):\n",
    "    y_true = []\n",
    "    y_pred = []\n",
    "    \n",
    "    with arcpy.da.SearchCursor(data, [\"ground_truth\", \"prediction\"]) as cursor:\n",
    "        for row in cursor:\n",
    "            y_true.append(row[0])\n",
    "            y_pred.append(row[1])\n",
    "    \n",
    "    y_mean = sum(y_true) / len(y_true)    \n",
    "    ss_total = sum((y_i - y_mean) ** 2 for y_i in y_true)   \n",
    "    ss_residual = sum((y_true[i] - y_pred[i]) ** 2 for i in range(len(y_true)))   \n",
    "    r_squared = 1 - (ss_residual / ss_total)   \n",
    "    return r_squared\n",
    "\n",
    "     \n"
   ]
  },
  {
   "cell_type": "code",
   "execution_count": 30,
   "metadata": {},
   "outputs": [
    {
     "name": "stdout",
     "output_type": "stream",
     "text": [
      "diff_Idw_pts RMSE: 0.0024740672886870577\n",
      "diff_Idw_pts MAE: 0.001817189069839742\n",
      "diff_Idw_pts R^2: 0.9999999999424458\n",
      "diff_kriging_uni_pts RMSE: 459.1004665602453\n",
      "diff_kriging_uni_pts MAE: 283.78659801614396\n",
      "diff_kriging_uni_pts R^2: -0.9818442010040875\n",
      "diff_kriging_ord_pts RMSE: 0.48543483155341316\n",
      "diff_kriging_ord_pts MAE: 0.4148387168736747\n",
      "diff_kriging_ord_pts R^2: 0.999997784274722\n"
     ]
    }
   ],
   "source": [
    "# execute the function\n",
    "diff_agdd_interpolation = [\"diff_Idw_pts\", \"diff_kriging_uni_pts\", \"diff_kriging_ord_pts\"]\n",
    "\n",
    "for diff_agdd in diff_agdd_interpolation:\n",
    "    \n",
    "    print(f\"{diff_agdd} RMSE:\", RMSE(diff_agdd))\n",
    "    \n",
    "    print(f\"{diff_agdd} MAE:\", MAE(diff_agdd))\n",
    "\n",
    "    print(f\"{diff_agdd} R^2:\", R_squared(diff_agdd))\n",
    "     "
   ]
  }
 ],
 "metadata": {
  "kernelspec": {
   "display_name": "ArcGISPro",
   "language": "Python",
   "name": "python3"
  },
  "language_info": {
   "file_extension": ".py",
   "name": "python",
   "version": "3"
  }
 },
 "nbformat": 4,
 "nbformat_minor": 2
}
