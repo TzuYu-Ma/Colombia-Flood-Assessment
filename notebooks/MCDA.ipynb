{
 "cells": [
  {
   "cell_type": "markdown",
   "metadata": {},
   "source": [
    "# MCDA \n",
    "This notebook aims to utilize three MCDA methods—TOPSIS, VIKOR, and EDAS—for flood simulation. After obtaining the results from each method, we standardize them to produce the final results. ArcPro was used to prepare the parameters, and the calculations were performed in Excel. Prior to the MCDA, we used AHP to determine the weights for all parameters."
   ]
  },
  {
   "cell_type": "markdown",
   "metadata": {
    "heading_collapsed": true
   },
   "source": [
    "## Analytic Hierarchy Process (AHP)"
   ]
  },
  {
   "cell_type": "markdown",
   "metadata": {
    "heading_collapsed": true,
    "hidden": true
   },
   "source": [
    "### reclassify\n"
   ]
  },
  {
   "cell_type": "code",
   "execution_count": 1,
   "metadata": {
    "hidden": true
   },
   "outputs": [
    {
     "name": "stdout",
     "output_type": "stream",
     "text": [
      "Reclassification complete\n"
     ]
    }
   ],
   "source": [
    "# Soil\n",
    "input_layer = \"soil_100k_Monteria\"\n",
    "\n",
    "# Add new filed \n",
    "new_field = \"Risk_Class\"\n",
    "field_type = \"SHORT\"\n",
    "\n",
    "if not arcpy.ListFields(input_layer, new_field):\n",
    "    arcpy.AddField_management(input_layer, new_field, field_type)\n",
    "\n",
    "# Reclassify\n",
    "def classify(soil_characteristics):\n",
    "    if soil_characteristics == 'Cuerpo de agua':\n",
    "        return 5\n",
    "    elif soil_characteristics == 'Moderadamente profundos a superficiales drenaje moderado a pobre, encharcamientos periódicos, texturas finas, fertilidad muy baja a moderada':\n",
    "        return 4\n",
    "    elif soil_characteristics == 'Moderadamente profundos a superficiales, drenaje artificial moderadamente excesivo: texturas moderadamente gruesas y medias, generalmente gravillas y fragmentos gruesos en la superficie y dentro del perfil, fertilidad baja a moderada, erosión ligera a moderada':\n",
    "        return 2\n",
    "    elif soil_characteristics == 'Moderadamente profundos y profundos, moderada e imperfectamente drenados, texturas medias en superficie y finas en la profundidad, en algunos sectores se encuentra gravilla y sodio, erosión ligera, fertilidad moderada a muy baja':\n",
    "        return 3\n",
    "    elif soil_characteristics == 'Moderadamente profundos, drenaje natural moderado a imperfecto, texturas medias y finas, fertilidad alta a baja':\n",
    "        return 3\n",
    "    elif soil_characteristics == 'Moderadamente profundos, texturas gruesas moderadamente gruesas y finas, bien drenados, fertilidad baja a moderada':\n",
    "        return 1\n",
    "    elif soil_characteristics == 'Moderadamente profundos, texturas medias y finas, susceptibilidad a encharcamientos, drenaje natural imperfecto a moderado, fertilidad moderada y alta':\n",
    "        return 3\n",
    "    elif soil_characteristics == 'Moderadamente profundos, texturas moderadamente finas y finas, encharcamientos regulares, drenaje natural imperfecto y moderado, fertilidad moderada a alta, erosión ligera a moderada':\n",
    "        return 4\n",
    "    elif soil_characteristics == 'Muy superficiales a moderadamente profundos, drenaje natural pobre y moderado, sujetos a inundación y encharcamientos periódicos, con fluctuaciones del nivel freático, texturas finas, medias y moderadamente gruesas en forma alterna, ocasionalmente con gravilla, fertilidad alta':\n",
    "        return 5\n",
    "    elif soil_characteristics == 'Muy superficiales a profundos, bien drenados, texturas medias en la parte superior y finas en los horizontes profundos, ocasionalmente gravilla y piedra en la superficie y dentro del perfil, algunos tienen alta saturación de aluminio, fertilidad moderada':\n",
    "        return 1\n",
    "    elif soil_characteristics == 'Muy superficiales a profundos, texturas gruesas y finas, buen drenaje en los bancos e imperfecto en arenas cóncavas, sujetos a inundaciones periódicas y encharcamientos de corta duración, fertilidad alta a moderada':\n",
    "        return 4\n",
    "    elif soil_characteristics == 'Muy superficiales y moderadamente profundos, texturas medias y moderadamente finas, drenaje natural moderado a excesivo, fertilidad baja, erosión ligera a severa, fertilidad alta a baja':\n",
    "        return 2\n",
    "    elif soil_characteristics == 'Muy superficiales y moderadamente profundos, texturas moderadamente gruesas y moderadamente finas, drenaje moderado y excesivo, erosión ligera a moderada, con gravilla superficial, fertilidad moderada a baja':\n",
    "        return 2\n",
    "    elif soil_characteristics == 'Muy superficiales, texturas finas, inundaciones frecuentes regulares, drenaje natural pobre a muy pobre, algunos sectores bajos problemas de salinidad, fertilidad alta a baja':\n",
    "        return 5\n",
    "    elif soil_characteristics == 'Profundos y moderadamente profundos, bien drenados, texturas moderadamente finas y finas, fertilidad alta a muy baja, erosión ligera':\n",
    "        return 1\n",
    "    elif soil_characteristics == 'Profundos y moderadamente profundos, drenado moderado e imperfecto, texturas finas y en algunos sectores moderadamente finas y medias, fertilidad alta y moderada':\n",
    "        return 3\n",
    "    elif soil_characteristics == 'Profundos y moderadamente profundos, limitados por el nivel freático, drenaje bueno e imperfecto, texturas muy finas y moderadamente finas, algunos tienen problemas de salinidad, fertilidad alta y moderada':\n",
    "        return 2\n",
    "    elif soil_characteristics == 'Profundos y superficiales, limitados por las fluctuaciones del nivel freático, texturas finas y muy finas, con drenaje natural bueno y pobre, erosión ligera, fertilidad moderada a baja':\n",
    "        return 3\n",
    "    elif soil_characteristics == 'Profundos, texturas moderadamente finas y finas, bien drenados, erosión laminar ligera, fertilidad baja y alta':\n",
    "        return 1\n",
    "    elif soil_characteristics == 'Superficiales a profundos, texturas moderadamente finas con sustrato fino, drenaje natural moderado a excesivo, fertilidad moderada, erosión ligera a severa':\n",
    "        return 2\n",
    "    elif soil_characteristics == 'Superficiales y moderadamente profundos, texturas finas, imperfectamente drenados, fertilidad alta':\n",
    "        return 4\n",
    "    elif soil_characteristics == 'Superficiales y moderadamente profundos, texturas moderadamente finas y finas, sometidos a inundaciones frecuentes, regulares, drenaje natural muy pobre a moderado, fertilidad alta':\n",
    "        return 5\n",
    "    elif soil_characteristics == 'Superficiales y moderadamente profundos, texturas moderadamente finas y finas, susceptibles a inundaciones y encharcamientos ocasionales, drenaje natural imperfecto a pobre, fertilidad baja a alta':\n",
    "        return 4\n",
    "    elif soil_characteristics == 'Superficiales y muy superficiales, drenaje natural imperfecto a pobre, encharcamientos periódicos prolongados, texturas medias y finas, fertilidad baja a alta':\n",
    "        return 5\n",
    "    elif soil_characteristics == 'Superficiales y profundos, limitados por capas de arcillas, texturas gruesas y moderadamente gruesas sobre finas, bien drenados, fertilidad muy baja a moderada':\n",
    "        return 1\n",
    "    elif soil_characteristics == 'Superficiales y profundos, texturas moderadamente finas y finas, encharcamientos e inundaciones regulares, drenaje natural pobre a moderado, fertilidad moderada a alta':\n",
    "        return 5\n",
    "    elif soil_characteristics == 'Zona urbana':\n",
    "        return 5\n",
    "    else:\n",
    "        return None\n",
    "\n",
    "with arcpy.da.UpdateCursor(input_layer, ['CARACTERÍSTICAS_SUELOS', new_field]) as cursor:\n",
    "    for row in cursor:\n",
    "        row[1] = classify(row[0])\n",
    "        cursor.updateRow(row)\n",
    "\n",
    "print(\"Reclassification complete\")"
   ]
  },
  {
   "cell_type": "code",
   "execution_count": 2,
   "metadata": {
    "hidden": true
   },
   "outputs": [
    {
     "name": "stdout",
     "output_type": "stream",
     "text": [
      "LULC reclassification complete\n"
     ]
    }
   ],
   "source": [
    "# LULC\n",
    "\n",
    "input_layer = \"lulc_100k_Monteria\"\n",
    "\n",
    "# Add new filed \n",
    "lulc_field = \"nivel_1\"\n",
    "new_field = \"Risk_Class\"\n",
    "field_type = \"SHORT\"\n",
    "\n",
    "if not arcpy.ListFields(input_layer, new_field):\n",
    "    arcpy.AddField_management(input_layer, new_field, field_type)\n",
    "\n",
    "# Reclassify\n",
    "def classify_lulc(lulc_type):\n",
    "    if lulc_type == '1. Territorios artificializados':\n",
    "        return 5\n",
    "    elif lulc_type == '2. Territorios agrícolas':\n",
    "        return 2\n",
    "    elif lulc_type == '3. Bosques y áreas seminaturales':\n",
    "        return 1\n",
    "    elif lulc_type == '4. Áreas húmedas':\n",
    "        return 4\n",
    "    elif lulc_type == '5. Superficies de agua':\n",
    "        return 5\n",
    "    else:\n",
    "        return None\n",
    "\n",
    "with arcpy.da.UpdateCursor(input_layer, [lulc_field, new_field]) as cursor:\n",
    "    for row in cursor:\n",
    "        row[1] = classify_lulc(row[0])\n",
    "        cursor.updateRow(row)\n",
    "\n",
    "print(\"LULC reclassification complete\")\n"
   ]
  },
  {
   "cell_type": "code",
   "execution_count": null,
   "metadata": {
    "hidden": true
   },
   "outputs": [],
   "source": [
    "# Distance from Stream\n",
    "out_raster = arcpy.sa.Reclassify(\n",
    "    in_raster=\"Dist_stream1\",\n",
    "    reclass_field=\"VALUE\",\n",
    "    remap=\"0 1144.462707 5;1144.462707 2500.862952 4;2500.862952 3942.038212 3;3942.038212 5722.313534 2;5722.313534 10808.814453 5\",\n",
    "    missing_values=\"DATA\"\n",
    ")\n",
    "out_raster.save(r\"C:\\Users\\ma000551\\Desktop\\Colombia\\CO\\Colombia\\Colombia.gdb\\Dist_stream_rc\")\n"
   ]
  },
  {
   "cell_type": "code",
   "execution_count": null,
   "metadata": {
    "hidden": true
   },
   "outputs": [],
   "source": [
    "# NDVI\n",
    "out_raster = arcpy.sa.Reclassify(\n",
    "    in_raster=\"NDVI\",\n",
    "    reclass_field=\"VALUE\",\n",
    "    remap=\"-0.087318 0.134861 5;0.134861 0.293560 4;0.293560 0.354394 3;0.354394 0.404649 2;0.404649 0.587152 1\",\n",
    "    missing_values=\"DATA\"\n",
    ")\n",
    "out_raster.save(r\"C:\\Users\\ma000551\\Desktop\\Colombia\\CO\\Colombia\\Colombia.gdb\\NDVI_rc\")"
   ]
  },
  {
   "cell_type": "code",
   "execution_count": null,
   "metadata": {
    "hidden": true
   },
   "outputs": [],
   "source": [
    "# TWI\n",
    "out_raster = arcpy.sa.Reclassify(\n",
    "    in_raster=\"TWI\",\n",
    "    reclass_field=\"VALUE\",\n",
    "    remap=\"0.220083 3.442345 1;3.442345 5.729111 2;5.729111 8.431653 3;8.431653 11.861803 4;11.861803 26.725784 5\",\n",
    "    missing_values=\"DATA\"\n",
    ")\n",
    "out_raster.save(r\"C:\\Users\\ma000551\\Desktop\\Colombia\\CO\\Colombia\\Colombia.gdb\\TWI_rc\")"
   ]
  },
  {
   "cell_type": "code",
   "execution_count": null,
   "metadata": {
    "hidden": true
   },
   "outputs": [],
   "source": [
    "# slope\n",
    "out_raster = arcpy.sa.Reclassify(\n",
    "    in_raster=\"Slope\",\n",
    "    reclass_field=\"VALUE\",\n",
    "    remap=\"0 2.048168 5;2.048168 5.356747 4;5.356747 10.083289 3;10.083289 17.015551 2;17.015551 40.175606 1\",\n",
    "    missing_values=\"DATA\"\n",
    ")\n",
    "out_raster.save(r\"C:\\Users\\ma000551\\Desktop\\Colombia\\CO\\Colombia\\Colombia.gdb\\Slope_rc\")"
   ]
  },
  {
   "cell_type": "code",
   "execution_count": null,
   "metadata": {
    "hidden": true
   },
   "outputs": [],
   "source": [
    "# precipitation\n",
    "out_raster = arcpy.sa.Reclassify(\n",
    "    in_raster=\"Idw_precipit\",\n",
    "    reclass_field=\"VALUE\",\n",
    "    remap=\"71.750938 92.999579 1;92.999579 107.827531 2;107.827531 118.174928 3;118.174928 125.395659 4;125.395659 135.743057 5\",\n",
    "    missing_values=\"DATA\"\n",
    ")\n",
    "out_raster.save(r\"C:\\Users\\ma000551\\Desktop\\Colombia\\CO\\Colombia\\Colombia.gdb\\precipit_rc\")"
   ]
  },
  {
   "cell_type": "code",
   "execution_count": null,
   "metadata": {
    "hidden": true
   },
   "outputs": [],
   "source": [
    "# Elevation\n",
    "out_raster = arcpy.sa.Reclassify(\n",
    "    in_raster=\"Fill_DEM\",\n",
    "    reclass_field=\"VALUE\",\n",
    "    remap=\"7 42.058031 1;42.058031 82.374767 2;82.374767 136.714716 3;136.714716 231.371400 4;231.371400 453.989899 5\",\n",
    "    missing_values=\"DATA\"\n",
    ")\n",
    "out_raster.save(r\"C:\\Users\\ma000551\\Desktop\\Colombia\\CO\\Colombia\\Colombia.gdb\\elevation_rc\")"
   ]
  },
  {
   "cell_type": "markdown",
   "metadata": {
    "hidden": true
   },
   "source": [
    "### result\n",
    "#### criteria weight\n",
    "- Elevation 0.34\n",
    "- Slope 0.22\n",
    "- Distance to streams 0.15\n",
    "- Precipitation 0.11\n",
    "- TWI 0.08\n",
    "- NDVI 0.04\n",
    "- LULC 0.02\n",
    "- population 0.02\n",
    "- Soil 0.02"
   ]
  },
  {
   "cell_type": "markdown",
   "metadata": {},
   "source": [
    "## Extract the value"
   ]
  },
  {
   "cell_type": "markdown",
   "metadata": {},
   "source": [
    "create 15,000 random points inside the study area, then extracting the value"
   ]
  },
  {
   "cell_type": "code",
   "execution_count": null,
   "metadata": {},
   "outputs": [],
   "source": [
    "# create 15000 random points in Montería_boundary\n",
    "with arcpy.EnvManager(extent='-76.2686778517153 8.26622094987779 -75.6444068711379 8.95605846326541 GEOGCS[\"GCS_MAGNA\",DATUM[\"D_MAGNA\",SPHEROID[\"GRS_1980\",6378137.0,298.257222101]],PRIMEM[\"Greenwich\",0.0],UNIT[\"Degree\",0.0174532925199433]]'):\n",
    "    arcpy.management.CreateRandomPoints(\n",
    "        out_path=r\"C:\\Users\\ma000551\\Desktop\\Colombia\\CO\\Colombia\\Colombia.gdb\",\n",
    "        out_name=\"random\",\n",
    "        constraining_feature_class=\"Montería_boundary\",\n",
    "        constraining_extent='-76.2686778517153 8.26622094987779 -75.6444068711379 8.95605846326541 GEOGCS[\"GCS_MAGNA\",DATUM[\"D_MAGNA\",SPHEROID[\"GRS_1980\",6378137.0,298.257222101]],PRIMEM[\"Greenwich\",0.0],UNIT[\"Degree\",0.0174532925199433]]',\n",
    "        number_of_points_or_field=15000,\n",
    "        minimum_allowed_distance=\"0 Meters\",\n",
    "        create_multipoint_output=\"POINT\",\n",
    "        multipoint_size=0\n",
    "    )\n",
    "# ‘Extract Multi Values to Points’ for all thematic layers\n",
    "arcpy.sa.ExtractMultiValuesToPoints(\n",
    "    in_point_features=\"random_pts\",\n",
    "    in_rasters=\"LULC_rc LULC_rc;census2018_clip population;Idw_precipit2 precipitation\",\n",
    "    bilinear_interpolate_values=\"NONE\"\n",
    ")"
   ]
  },
  {
   "cell_type": "markdown",
   "metadata": {},
   "source": [
    "## Define the beneficail and non-beneficial parameters - TOPSIS and VIKOR need\n",
    "- beneficail : higher value is higher value is preferable (high risk).\n",
    "- non-beneficail : lower value is preferable (low risk).\n",
    "\n",
    "Based on the final results, we need to identify the high-risk areas. In this case, a higher risk value is preferable for indicating these areas."
   ]
  },
  {
   "cell_type": "markdown",
   "metadata": {},
   "source": [
    "| Criteria            | Criteria type |\n",
    "|---------------------|--------|\n",
    "| slope               | NB      |\n",
    "| elevation           | NB     |\n",
    "| distance to streams | NB     |\n",
    "| LULC                | B      |\n",
    "| precipitation       | B      |\n",
    "| TWI                 | B      |\n",
    "| NDVI                | NB     |\n",
    "| soil                | B      |\n",
    "| population          | B      |"
   ]
  },
  {
   "cell_type": "markdown",
   "metadata": {
    "heading_collapsed": true
   },
   "source": [
    "## Technique for Order of Preference by Similarity to Ideal Solution (TOPSIS)"
   ]
  },
  {
   "cell_type": "markdown",
   "metadata": {
    "hidden": true
   },
   "source": [
    "### 1. Construct the Decision Matrix\n",
    "\n",
    "Given 9 parameters (criteria) and \\( m \\) alternatives, the decision matrix \\( X \\) is constructed as follows:\n",
    "\n",
    "$$\n",
    "X = \\begin{bmatrix}\n",
    "x_{11} & x_{12} & \\dots & x_{1n} \\\\\n",
    "x_{21} & x_{22} & \\dots & x_{2n} \\\\\n",
    "\\vdots & \\vdots & \\ddots & \\vdots \\\\\n",
    "x_{m1} & x_{m2} & \\dots & x_{mn}\n",
    "\\end{bmatrix}\n",
    "$$"
   ]
  },
  {
   "cell_type": "markdown",
   "metadata": {
    "hidden": true
   },
   "source": [
    "### 2. Normalize the Decision Matrix\n",
    "\n",
    "Normalize the decision matrix to transform the various criteria scales into comparable units:\n",
    "\n",
    "$$\n",
    "r_{ij} = \\frac{x_{ij}}{\\sqrt{\\sum_{i=1}^{m} x_{ij}^2}}\n",
    "$$\n",
    "\n",
    "The normalized decision matrix \\( R \\) is:\n",
    "\n",
    "$$\n",
    "R = \\begin{bmatrix}\n",
    "r_{11} & r_{12} & \\dots & r_{1n} \\\\\n",
    "r_{21} & r_{22} & \\dots & r_{2n} \\\\\n",
    "\\vdots & \\vdots & \\ddots & \\vdots \\\\\n",
    "r_{m1} & r_{m2} & \\dots & r_{mn}\n",
    "\\end{bmatrix}\n",
    "$$"
   ]
  },
  {
   "cell_type": "markdown",
   "metadata": {
    "hidden": true
   },
   "source": [
    "### 3. Determine the Weighted Normalized Decision Matrix\n",
    "\n",
    "Multiply the normalized decision matrix by the corresponding weights \\( w_j \\) of each criterion:\n",
    "\n",
    "$$\n",
    "v_{ij} = w_j \\times r_{ij}\n",
    "$$\n",
    "\n",
    "The weighted normalized decision matrix \\( V \\) is:\n",
    "\n",
    "$$\n",
    "V = \\begin{bmatrix}\n",
    "v_{11} & v_{12} & \\dots & v_{1n} \\\\\n",
    "v_{21} & v_{22} & \\dots & v_{2n} \\\\\n",
    "\\vdots & \\vdots & \\ddots & \\vdots \\\\\n",
    "v_{m1} & v_{m2} & \\dots & v_{mn}\n",
    "\\end{bmatrix}\n",
    "$$"
   ]
  },
  {
   "cell_type": "markdown",
   "metadata": {
    "hidden": true
   },
   "source": [
    "### 4. Identify Ideal and Negative-Ideal Solutions\n",
    "\n",
    "#### Ideal Solution $( A^+ )$:\n",
    "\n",
    "$$\n",
    "A^+ = \\{ v_1^+, v_2^+, \\dots, v_n^+ \\}\n",
    "$$\n",
    "\n",
    "where $v_j^+ = \\max(v_{ij})$ for beneficial criteria and $v_j^+ = \\min(v_{ij})$ for non-beneficial criteria.\n",
    "\n",
    "#### Negative-Ideal Solution $( A^- )$:\n",
    "\n",
    "$$\n",
    "A^- = \\{ v_1^-, v_2^-, \\dots, v_n^- \\}\n",
    "$$\n",
    "\n",
    "where $v_j^- = \\min(v_{ij})$ for beneficial criteria and $v_j^- = \\max(v_{ij})$ for non-beneficial criteria."
   ]
  },
  {
   "cell_type": "markdown",
   "metadata": {
    "hidden": true
   },
   "source": [
    "### 5. Calculate Separation Measures\n",
    "\n",
    "#### Separation from Ideal Solution $( S_i^+ )$:\n",
    "\n",
    "$$\n",
    "S_i^+ = \\sqrt{\\sum_{j=1}^{n} (v_{ij} - v_j^+)^2}\n",
    "$$\n",
    "\n",
    "#### Separation from Negative-Ideal Solution $( S_i^- )$:\n",
    "\n",
    "$$\n",
    "S_i^- = \\sqrt{\\sum_{j=1}^{n} (v_{ij} - v_j^-)^2}\n",
    "$$"
   ]
  },
  {
   "cell_type": "markdown",
   "metadata": {
    "hidden": true
   },
   "source": [
    "### 6. Calculate Relative Closeness to the Ideal Solution\n",
    "\n",
    "The relative closeness $C_i^*$ of each alternative to the ideal solution is calculated as:\n",
    "\n",
    "$$\n",
    "C_i^* = \\frac{S_i^-}{S_i^+ + S_i^-}\n",
    "$$\n",
    "\n",
    "A higher $C_i^*$ value indicates that the alternative is closer to the ideal solution and therefore more preferable."
   ]
  },
  {
   "cell_type": "markdown",
   "metadata": {
    "heading_collapsed": true
   },
   "source": [
    "## VlseKriterijumska Optimizacija I Kompromisno Resenje (VIKOR)"
   ]
  },
  {
   "cell_type": "markdown",
   "metadata": {
    "hidden": true
   },
   "source": [
    "### 1. Construct the Decision Matrix from 9 Parameters\n",
    "Given 9 parameters (criteria) and \\( m \\) alternatives, the decision matrix \\( X \\) is constructed as follows:\n",
    "\n",
    "$$\n",
    "X = \\begin{bmatrix}\n",
    "x_{11} & x_{12} & \\dots & x_{1n} \\\\\n",
    "x_{21} & x_{22} & \\dots & x_{2n} \\\\\n",
    "\\vdots & \\vdots & \\ddots & \\vdots \\\\\n",
    "x_{m1} & x_{m2} & \\dots & x_{mn}\n",
    "\\end{bmatrix}\n",
    "$$\n",
    "\n",
    "where $( x_{ij} )$ represents the performance of alternative \\( i \\) on criterion \\( j \\)."
   ]
  },
  {
   "cell_type": "markdown",
   "metadata": {
    "hidden": true
   },
   "source": [
    "### 2. Determine the Best and Worst Values\n",
    "For each criterion \\( j \\), determine the best $( f_j^* )$ and worst $( f_j^- )$ values:\n",
    "\n",
    "- **Best value** $( f_j^* )$:\n",
    "\n",
    "$$\n",
    "f_j^* = \\max(x_{ij}) \\quad \\text{for beneficial criteria}\n",
    "$$\n",
    "\n",
    "$$\n",
    "f_j^* = \\min(x_{ij}) \\quad \\text{for non-beneficial criteria}\n",
    "$$\n",
    "\n",
    "- **Worst value** $( f_j^- )$:\n",
    "\n",
    "$$\n",
    "f_j^- = \\min(x_{ij}) \\quad \\text{for beneficial criteria}\n",
    "$$\n",
    "\n",
    "$$\n",
    "f_j^- = \\max(x_{ij}) \\quad \\text{for non-beneficial criteria}\n",
    "$$"
   ]
  },
  {
   "cell_type": "markdown",
   "metadata": {
    "hidden": true
   },
   "source": [
    "### 3. Compute the Utility Measure (Si) and Regret Measure (Ri)\n",
    "Calculate the utility measure $( S_i )$ and the regret measure $( R_i )$ for each alternative \\( i \\):\n",
    "\n",
    "- **Utility Measure** $( S_i )$:\n",
    "\n",
    "$$\n",
    "S_i = \\sum_{j=1}^{n} w_j \\cdot \\frac{f_j^* - x_{ij}}{f_j^* - f_j^-}\n",
    "$$\n",
    "\n",
    "- **Regret Measure** $( R_i )$:\n",
    "\n",
    "$$\n",
    "R_i = \\max_j \\left[ w_j \\cdot \\frac{f_j^* - x_{ij}}{f_j^* - f_j^-} \\right]\n",
    "$$"
   ]
  },
  {
   "cell_type": "markdown",
   "metadata": {
    "hidden": true
   },
   "source": [
    "### 4. Compute the VIKOR Index (Qi)\n",
    "Compute the VIKOR index $( Q_i )$ for each alternative $( i )$:\n",
    "\n",
    "$$\n",
    "Q_i = v \\cdot \\frac{S_i - S^*}{S^- - S^*} + (1 - v) \\cdot \\frac{R_i - R^*}{R^- - R^*}\n",
    "$$\n",
    "\n",
    "where:\n",
    "- $( S^* = \\min(S_i) )$, $( S^- = \\max(S_i) )$\n",
    "- $( R^* = \\min(R_i) )$, $( R^- = \\max(R_i) )$\n",
    "- $( v )$ is the weight of the strategy of \"the majority of criteria\" (typically \\( v = 0.5 \\))\n",
    "\n",
    "Finally, rank the alternatives based on the values of $( Q_i )$, with lower values indicating a better alternative."
   ]
  },
  {
   "cell_type": "markdown",
   "metadata": {},
   "source": [
    "##  The evaluation based on distance from average solution (EDAS)\n"
   ]
  },
  {
   "cell_type": "markdown",
   "metadata": {},
   "source": [
    "### 1. Calculate the Average Solution\n",
    "For each criterion $( j )$, calculate the average solution $( AV_j )$:\n",
    "\n",
    "$$\n",
    "AV_j = \\frac{1}{m} \\sum_{i=1}^{m} x_{ij}\n",
    "$$\n",
    "\n",
    "where:\n",
    "- $( m  )$ is the number of alternatives.\n",
    "- $( x_{ij} )$ is the performance of alternative $( i )$ on criterion $( j )$."
   ]
  },
  {
   "cell_type": "markdown",
   "metadata": {},
   "source": [
    "### 2. Compute the Positive & Negative Distance from Average\n",
    "Calculate the Positive Distance from Average (PDA) and Negative Distance from Average (NDA) for each alternative $( i )$ and criterion $( j )$:\n",
    "\n",
    "- **Positive Distance from Average (PDA) for beneficial criteria:**\n",
    "\n",
    "$$\n",
    "PDA_{ij} = \\frac{\\max(0, (x_{ij} - AV_j))}{AV_j}\n",
    "$$\n",
    "\n",
    "- **Negative Distance from Average (NDA) for beneficial criteria:**\n",
    "\n",
    "$$\n",
    "NDA_{ij} = \\frac{\\max(0, (AV_j - x_{ij}))}{AV_j}\n",
    "$$"
   ]
  },
  {
   "cell_type": "markdown",
   "metadata": {},
   "source": [
    "### 3. Weighted Sum of Normalized PDA and NDA\n",
    "Calculate the weighted sum of the normalized PDA and NDA for each alternative $( i )$:\n",
    "\n",
    "- **Weighted Sum of Positive Distance from Average (SP):**\n",
    "\n",
    "$$\n",
    "SP_i = \\sum_{j=1}^{n} w_j \\times \\frac{PDA_{ij}}{\\max(PDA_{j})}\n",
    "$$\n",
    "\n",
    "- **Weighted Sum of Negative Distance from Average (SN):**\n",
    "\n",
    "$$\n",
    "SN_i = \\sum_{j=1}^{n} w_j \\times \\frac{NDA_{ij}}{\\max(NDA_{j})}\n",
    "$$"
   ]
  },
  {
   "cell_type": "markdown",
   "metadata": {},
   "source": [
    "### 4. Normalize SP and SN\n",
    "Normalize the values of SP and SN for each alternative $( i )$:\n",
    "\n",
    "- **Normalized SP (NSP):**\n",
    "\n",
    "$$\n",
    "NSP_i = \\frac{SP_i - \\min(SP)}{\\max(SP) - \\min(SP)}\n",
    "$$\n",
    "\n",
    "- **Normalized SN (NSN):**\n",
    "\n",
    "$$\n",
    "NSN_i = \\frac{SN_i - \\min(SN)}{\\max(SN) - \\min(SN)}\n",
    "$$"
   ]
  },
  {
   "cell_type": "markdown",
   "metadata": {},
   "source": [
    "### 5. Normalize the Values of NSP and NSN\n",
    "Finally, compute the final score for each alternative $( i )$:\n",
    "\n",
    "$$\n",
    "AS_i = 0.5 \\times NSP_i + 0.5 \\times (1 - NSN_i)\n",
    "$$\n",
    "\n",
    "The alternatives can be ranked based on the values of $( AS_i )$, with higher values indicating better alternatives."
   ]
  },
  {
   "cell_type": "markdown",
   "metadata": {},
   "source": [
    "## Final result-  standardized and integrated "
   ]
  },
  {
   "cell_type": "markdown",
   "metadata": {},
   "source": [
    "## Normalization and Overall Score Calculation\n",
    "\n",
    "- **Normalized $( C_i )$ ( $( C_i' )$ ):**\n",
    "\n",
    "$$\n",
    "C_i' = \\frac{C_i - \\min(C)}{\\max(C) - \\min(C)}\n",
    "$$\n",
    "\n",
    "- **Normalized $( Q_i )$ ( $( Q_i' )$ ):**\n",
    "\n",
    "$$\n",
    "Q_i' = \\frac{Q_i - \\min(Q)}{\\max(Q) - \\min(Q)}\n",
    "$$\n",
    "\n",
    "- **Normalized $( AS_i )$ ( $( AS_i' )$ ):**\n",
    "\n",
    "$$\n",
    "AS_i' = \\frac{AS_i - \\min(AS)}{\\max(AS) - \\min(AS)}\n",
    "$$\n",
    "\n",
    "- **Overall Score $( score_i )$:**\n",
    "\n",
    "$$\n",
    "\\text{overall score}_i = \\frac{C_i' + Q_i' + AS_i'}{3}\n",
    "$$\n"
   ]
  }
 ],
 "metadata": {
  "kernelspec": {
   "display_name": "ArcGISPro",
   "language": "Python",
   "name": "python3"
  },
  "language_info": {
   "file_extension": ".py",
   "name": "python",
   "version": "3"
  }
 },
 "nbformat": 4,
 "nbformat_minor": 2
}
